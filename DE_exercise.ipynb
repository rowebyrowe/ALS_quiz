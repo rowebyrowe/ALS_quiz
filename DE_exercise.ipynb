{
 "cells": [
  {
   "cell_type": "code",
   "execution_count": 1,
   "metadata": {},
   "outputs": [],
   "source": [
    "import pandas as pd\n",
    "import numpy as np\n",
    "import wget\n",
    "pd.set_option('display.max_columns', None)\n",
    "pd.set_option('display.max_rows', None)"
   ]
  },
  {
   "cell_type": "code",
   "execution_count": 2,
   "metadata": {
    "tags": []
   },
   "outputs": [],
   "source": [
    "cons = pd.read_csv('cons.csv')\n",
    "email = pd.read_csv('cons_email.csv')\n",
    "subs = pd.read_csv('cons_email_chapter_subscription.csv')"
   ]
  },
  {
   "cell_type": "code",
   "execution_count": 3,
   "metadata": {
    "scrolled": true
   },
   "outputs": [
    {
     "output_type": "execute_result",
     "data": {
      "text/plain": "       cons_email_chapter_subscription_id  cons_email_id     chapter_id  \\\ncount                       350000.000000  350000.000000  350000.000000   \nmean                        175000.500000  350695.017049       1.425889   \nstd                         101036.441445  201952.593769       0.901675   \nmin                              1.000000       3.000000       1.000000   \n25%                          87500.750000  176301.500000       1.000000   \n50%                         175000.500000  351203.000000       1.000000   \n75%                         262500.250000  525782.250000       1.000000   \nmax                         350000.000000  699997.000000       4.000000   \n\n             isunsub  \ncount  350000.000000  \nmean        0.901354  \nstd         0.298186  \nmin         0.000000  \n25%         1.000000  \n50%         1.000000  \n75%         1.000000  \nmax         1.000000  ",
      "text/html": "<div>\n<style scoped>\n    .dataframe tbody tr th:only-of-type {\n        vertical-align: middle;\n    }\n\n    .dataframe tbody tr th {\n        vertical-align: top;\n    }\n\n    .dataframe thead th {\n        text-align: right;\n    }\n</style>\n<table border=\"1\" class=\"dataframe\">\n  <thead>\n    <tr style=\"text-align: right;\">\n      <th></th>\n      <th>cons_email_chapter_subscription_id</th>\n      <th>cons_email_id</th>\n      <th>chapter_id</th>\n      <th>isunsub</th>\n    </tr>\n  </thead>\n  <tbody>\n    <tr>\n      <th>count</th>\n      <td>350000.000000</td>\n      <td>350000.000000</td>\n      <td>350000.000000</td>\n      <td>350000.000000</td>\n    </tr>\n    <tr>\n      <th>mean</th>\n      <td>175000.500000</td>\n      <td>350695.017049</td>\n      <td>1.425889</td>\n      <td>0.901354</td>\n    </tr>\n    <tr>\n      <th>std</th>\n      <td>101036.441445</td>\n      <td>201952.593769</td>\n      <td>0.901675</td>\n      <td>0.298186</td>\n    </tr>\n    <tr>\n      <th>min</th>\n      <td>1.000000</td>\n      <td>3.000000</td>\n      <td>1.000000</td>\n      <td>0.000000</td>\n    </tr>\n    <tr>\n      <th>25%</th>\n      <td>87500.750000</td>\n      <td>176301.500000</td>\n      <td>1.000000</td>\n      <td>1.000000</td>\n    </tr>\n    <tr>\n      <th>50%</th>\n      <td>175000.500000</td>\n      <td>351203.000000</td>\n      <td>1.000000</td>\n      <td>1.000000</td>\n    </tr>\n    <tr>\n      <th>75%</th>\n      <td>262500.250000</td>\n      <td>525782.250000</td>\n      <td>1.000000</td>\n      <td>1.000000</td>\n    </tr>\n    <tr>\n      <th>max</th>\n      <td>350000.000000</td>\n      <td>699997.000000</td>\n      <td>4.000000</td>\n      <td>1.000000</td>\n    </tr>\n  </tbody>\n</table>\n</div>"
     },
     "metadata": {},
     "execution_count": 3
    }
   ],
   "source": [
    "subs.describe()"
   ]
  },
  {
   "cell_type": "code",
   "execution_count": 4,
   "metadata": {
    "tags": []
   },
   "outputs": [
    {
     "output_type": "execute_result",
     "data": {
      "text/plain": "   cons_id            salutation    source             subsource  \\\n0        1                   NaN    google                   NaN   \n1        2  boFqBKgLlSgEZsFrgCZd  facebook  pRzBAZSGNScwCyreCEYr   \n2        3                   NaN       NaN  UAWXnALxxBXmwbPibFdw   \n3        4                   NaN    google                   NaN   \n4        5  ArvPJuEozHPaqbirovMi       NaN                   NaN   \n\n                  create_dt               modified_dt  \n0  Fri, 1983-08-26 06:02:03  Sun, 2015-12-27 09:28:02  \n1  Mon, 1979-03-05 21:08:54  Tue, 1989-06-20 13:28:57  \n2  Fri, 2008-08-22 19:20:28  Fri, 2020-06-05 18:13:57  \n3  Sun, 1984-04-29 11:18:18  Tue, 2012-01-31 07:26:35  \n4  Thu, 2007-07-19 18:28:09  Tue, 1971-04-27 06:53:53  ",
      "text/html": "<div>\n<style scoped>\n    .dataframe tbody tr th:only-of-type {\n        vertical-align: middle;\n    }\n\n    .dataframe tbody tr th {\n        vertical-align: top;\n    }\n\n    .dataframe thead th {\n        text-align: right;\n    }\n</style>\n<table border=\"1\" class=\"dataframe\">\n  <thead>\n    <tr style=\"text-align: right;\">\n      <th></th>\n      <th>cons_id</th>\n      <th>salutation</th>\n      <th>source</th>\n      <th>subsource</th>\n      <th>create_dt</th>\n      <th>modified_dt</th>\n    </tr>\n  </thead>\n  <tbody>\n    <tr>\n      <th>0</th>\n      <td>1</td>\n      <td>NaN</td>\n      <td>google</td>\n      <td>NaN</td>\n      <td>Fri, 1983-08-26 06:02:03</td>\n      <td>Sun, 2015-12-27 09:28:02</td>\n    </tr>\n    <tr>\n      <th>1</th>\n      <td>2</td>\n      <td>boFqBKgLlSgEZsFrgCZd</td>\n      <td>facebook</td>\n      <td>pRzBAZSGNScwCyreCEYr</td>\n      <td>Mon, 1979-03-05 21:08:54</td>\n      <td>Tue, 1989-06-20 13:28:57</td>\n    </tr>\n    <tr>\n      <th>2</th>\n      <td>3</td>\n      <td>NaN</td>\n      <td>NaN</td>\n      <td>UAWXnALxxBXmwbPibFdw</td>\n      <td>Fri, 2008-08-22 19:20:28</td>\n      <td>Fri, 2020-06-05 18:13:57</td>\n    </tr>\n    <tr>\n      <th>3</th>\n      <td>4</td>\n      <td>NaN</td>\n      <td>google</td>\n      <td>NaN</td>\n      <td>Sun, 1984-04-29 11:18:18</td>\n      <td>Tue, 2012-01-31 07:26:35</td>\n    </tr>\n    <tr>\n      <th>4</th>\n      <td>5</td>\n      <td>ArvPJuEozHPaqbirovMi</td>\n      <td>NaN</td>\n      <td>NaN</td>\n      <td>Thu, 2007-07-19 18:28:09</td>\n      <td>Tue, 1971-04-27 06:53:53</td>\n    </tr>\n  </tbody>\n</table>\n</div>"
     },
     "metadata": {},
     "execution_count": 4
    }
   ],
   "source": [
    "'''people needed columns: email(string): in email,code(string): in cons as source,is_unsub(boolean): in subs as isunsub,created_dt(datetime): in cons as create_dt also in email as create_dt,updated_dt(datetime): maybe modified_dt in all three?\n",
    "    '''\n",
    "cons.drop(columns=['prefix','firstname','middlename','lastname','suffix','gender','birth_dt','title','employer',\n",
    "                   'occupation','income','userid','password','is_validated','is_banned','change_password_next_login',\n",
    "                   'consent_type_id','create_app','create_user','modified_app','modified_user','status','note'],inplace=True)\n",
    "\n",
    "cons.head()"
   ]
  },
  {
   "cell_type": "code",
   "execution_count": 5,
   "metadata": {},
   "outputs": [
    {
     "output_type": "execute_result",
     "data": {
      "text/plain": "   cons_email_id  cons_id  cons_email_type_id                     email  \\\n0              1   548198                3361     xmartinez@vincent.com   \n1              2   491137                2474        hmiller@haynes.biz   \n2              3   413429                5175         aaron64@yahoo.com   \n3              4   347346                4117  wyattvincent@hotmail.com   \n4              5   443000                6781      tspencer@hotmail.com   \n\n        domain  \n0    gmail.com  \n1  hotmail.com  \n2    yahoo.com  \n3    gmail.com  \n4    gmail.com  ",
      "text/html": "<div>\n<style scoped>\n    .dataframe tbody tr th:only-of-type {\n        vertical-align: middle;\n    }\n\n    .dataframe tbody tr th {\n        vertical-align: top;\n    }\n\n    .dataframe thead th {\n        text-align: right;\n    }\n</style>\n<table border=\"1\" class=\"dataframe\">\n  <thead>\n    <tr style=\"text-align: right;\">\n      <th></th>\n      <th>cons_email_id</th>\n      <th>cons_id</th>\n      <th>cons_email_type_id</th>\n      <th>email</th>\n      <th>domain</th>\n    </tr>\n  </thead>\n  <tbody>\n    <tr>\n      <th>0</th>\n      <td>1</td>\n      <td>548198</td>\n      <td>3361</td>\n      <td>xmartinez@vincent.com</td>\n      <td>gmail.com</td>\n    </tr>\n    <tr>\n      <th>1</th>\n      <td>2</td>\n      <td>491137</td>\n      <td>2474</td>\n      <td>hmiller@haynes.biz</td>\n      <td>hotmail.com</td>\n    </tr>\n    <tr>\n      <th>2</th>\n      <td>3</td>\n      <td>413429</td>\n      <td>5175</td>\n      <td>aaron64@yahoo.com</td>\n      <td>yahoo.com</td>\n    </tr>\n    <tr>\n      <th>3</th>\n      <td>4</td>\n      <td>347346</td>\n      <td>4117</td>\n      <td>wyattvincent@hotmail.com</td>\n      <td>gmail.com</td>\n    </tr>\n    <tr>\n      <th>4</th>\n      <td>5</td>\n      <td>443000</td>\n      <td>6781</td>\n      <td>tspencer@hotmail.com</td>\n      <td>gmail.com</td>\n    </tr>\n  </tbody>\n</table>\n</div>"
     },
     "metadata": {},
     "execution_count": 5
    }
   ],
   "source": [
    "email.drop(columns=['is_primary','canonical_local_part','double_validation','create_app','create_user',\n",
    "                            'modified_app','modified_user','status','note','create_dt','modified_dt'],inplace=True)\n",
    "email.head()"
   ]
  },
  {
   "cell_type": "code",
   "execution_count": 9,
   "metadata": {},
   "outputs": [
    {
     "ename": "KeyError",
     "evalue": "\"['unsub_dt' 'modified_dt'] not found in axis\"",
     "output_type": "error",
     "traceback": [
      "\u001b[1;31m---------------------------------------------------------------------------\u001b[0m",
      "\u001b[1;31mKeyError\u001b[0m                                  Traceback (most recent call last)",
      "\u001b[1;32m<ipython-input-9-df2108f2d828>\u001b[0m in \u001b[0;36m<module>\u001b[1;34m\u001b[0m\n\u001b[0;32m      2\u001b[0m If an email is not present in this table, it is assumed to still be subscribed where chapter_id is 1.'''\n\u001b[0;32m      3\u001b[0m \u001b[1;34m\"delete chapter_id 0 and do left inner joins on mod_dt from subs\"\u001b[0m\u001b[1;33m\u001b[0m\u001b[1;33m\u001b[0m\u001b[0m\n\u001b[1;32m----> 4\u001b[1;33m \u001b[0msubs\u001b[0m\u001b[1;33m.\u001b[0m\u001b[0mdrop\u001b[0m\u001b[1;33m(\u001b[0m\u001b[0mcolumns\u001b[0m\u001b[1;33m=\u001b[0m\u001b[1;33m[\u001b[0m\u001b[1;34m'unsub_dt'\u001b[0m\u001b[1;33m,\u001b[0m\u001b[1;34m'modified_dt'\u001b[0m\u001b[1;33m]\u001b[0m\u001b[1;33m,\u001b[0m\u001b[0minplace\u001b[0m\u001b[1;33m=\u001b[0m\u001b[1;32mTrue\u001b[0m\u001b[1;33m)\u001b[0m\u001b[1;33m\u001b[0m\u001b[1;33m\u001b[0m\u001b[0m\n\u001b[0m\u001b[0;32m      5\u001b[0m \u001b[0msubs\u001b[0m\u001b[1;33m.\u001b[0m\u001b[0mhead\u001b[0m\u001b[1;33m(\u001b[0m\u001b[1;33m)\u001b[0m\u001b[1;33m\u001b[0m\u001b[1;33m\u001b[0m\u001b[0m\n",
      "\u001b[1;32m~\\AppData\\Roaming\\Python\\Python37\\site-packages\\pandas\\core\\frame.py\u001b[0m in \u001b[0;36mdrop\u001b[1;34m(self, labels, axis, index, columns, level, inplace, errors)\u001b[0m\n\u001b[0;32m   3995\u001b[0m             \u001b[0mlevel\u001b[0m\u001b[1;33m=\u001b[0m\u001b[0mlevel\u001b[0m\u001b[1;33m,\u001b[0m\u001b[1;33m\u001b[0m\u001b[1;33m\u001b[0m\u001b[0m\n\u001b[0;32m   3996\u001b[0m             \u001b[0minplace\u001b[0m\u001b[1;33m=\u001b[0m\u001b[0minplace\u001b[0m\u001b[1;33m,\u001b[0m\u001b[1;33m\u001b[0m\u001b[1;33m\u001b[0m\u001b[0m\n\u001b[1;32m-> 3997\u001b[1;33m             \u001b[0merrors\u001b[0m\u001b[1;33m=\u001b[0m\u001b[0merrors\u001b[0m\u001b[1;33m,\u001b[0m\u001b[1;33m\u001b[0m\u001b[1;33m\u001b[0m\u001b[0m\n\u001b[0m\u001b[0;32m   3998\u001b[0m         )\n\u001b[0;32m   3999\u001b[0m \u001b[1;33m\u001b[0m\u001b[0m\n",
      "\u001b[1;32m~\\AppData\\Roaming\\Python\\Python37\\site-packages\\pandas\\core\\generic.py\u001b[0m in \u001b[0;36mdrop\u001b[1;34m(self, labels, axis, index, columns, level, inplace, errors)\u001b[0m\n\u001b[0;32m   3934\u001b[0m         \u001b[1;32mfor\u001b[0m \u001b[0maxis\u001b[0m\u001b[1;33m,\u001b[0m \u001b[0mlabels\u001b[0m \u001b[1;32min\u001b[0m \u001b[0maxes\u001b[0m\u001b[1;33m.\u001b[0m\u001b[0mitems\u001b[0m\u001b[1;33m(\u001b[0m\u001b[1;33m)\u001b[0m\u001b[1;33m:\u001b[0m\u001b[1;33m\u001b[0m\u001b[1;33m\u001b[0m\u001b[0m\n\u001b[0;32m   3935\u001b[0m             \u001b[1;32mif\u001b[0m \u001b[0mlabels\u001b[0m \u001b[1;32mis\u001b[0m \u001b[1;32mnot\u001b[0m \u001b[1;32mNone\u001b[0m\u001b[1;33m:\u001b[0m\u001b[1;33m\u001b[0m\u001b[1;33m\u001b[0m\u001b[0m\n\u001b[1;32m-> 3936\u001b[1;33m                 \u001b[0mobj\u001b[0m \u001b[1;33m=\u001b[0m \u001b[0mobj\u001b[0m\u001b[1;33m.\u001b[0m\u001b[0m_drop_axis\u001b[0m\u001b[1;33m(\u001b[0m\u001b[0mlabels\u001b[0m\u001b[1;33m,\u001b[0m \u001b[0maxis\u001b[0m\u001b[1;33m,\u001b[0m \u001b[0mlevel\u001b[0m\u001b[1;33m=\u001b[0m\u001b[0mlevel\u001b[0m\u001b[1;33m,\u001b[0m \u001b[0merrors\u001b[0m\u001b[1;33m=\u001b[0m\u001b[0merrors\u001b[0m\u001b[1;33m)\u001b[0m\u001b[1;33m\u001b[0m\u001b[1;33m\u001b[0m\u001b[0m\n\u001b[0m\u001b[0;32m   3937\u001b[0m \u001b[1;33m\u001b[0m\u001b[0m\n\u001b[0;32m   3938\u001b[0m         \u001b[1;32mif\u001b[0m \u001b[0minplace\u001b[0m\u001b[1;33m:\u001b[0m\u001b[1;33m\u001b[0m\u001b[1;33m\u001b[0m\u001b[0m\n",
      "\u001b[1;32m~\\AppData\\Roaming\\Python\\Python37\\site-packages\\pandas\\core\\generic.py\u001b[0m in \u001b[0;36m_drop_axis\u001b[1;34m(self, labels, axis, level, errors)\u001b[0m\n\u001b[0;32m   3968\u001b[0m                 \u001b[0mnew_axis\u001b[0m \u001b[1;33m=\u001b[0m \u001b[0maxis\u001b[0m\u001b[1;33m.\u001b[0m\u001b[0mdrop\u001b[0m\u001b[1;33m(\u001b[0m\u001b[0mlabels\u001b[0m\u001b[1;33m,\u001b[0m \u001b[0mlevel\u001b[0m\u001b[1;33m=\u001b[0m\u001b[0mlevel\u001b[0m\u001b[1;33m,\u001b[0m \u001b[0merrors\u001b[0m\u001b[1;33m=\u001b[0m\u001b[0merrors\u001b[0m\u001b[1;33m)\u001b[0m\u001b[1;33m\u001b[0m\u001b[1;33m\u001b[0m\u001b[0m\n\u001b[0;32m   3969\u001b[0m             \u001b[1;32melse\u001b[0m\u001b[1;33m:\u001b[0m\u001b[1;33m\u001b[0m\u001b[1;33m\u001b[0m\u001b[0m\n\u001b[1;32m-> 3970\u001b[1;33m                 \u001b[0mnew_axis\u001b[0m \u001b[1;33m=\u001b[0m \u001b[0maxis\u001b[0m\u001b[1;33m.\u001b[0m\u001b[0mdrop\u001b[0m\u001b[1;33m(\u001b[0m\u001b[0mlabels\u001b[0m\u001b[1;33m,\u001b[0m \u001b[0merrors\u001b[0m\u001b[1;33m=\u001b[0m\u001b[0merrors\u001b[0m\u001b[1;33m)\u001b[0m\u001b[1;33m\u001b[0m\u001b[1;33m\u001b[0m\u001b[0m\n\u001b[0m\u001b[0;32m   3971\u001b[0m             \u001b[0mresult\u001b[0m \u001b[1;33m=\u001b[0m \u001b[0mself\u001b[0m\u001b[1;33m.\u001b[0m\u001b[0mreindex\u001b[0m\u001b[1;33m(\u001b[0m\u001b[1;33m**\u001b[0m\u001b[1;33m{\u001b[0m\u001b[0maxis_name\u001b[0m\u001b[1;33m:\u001b[0m \u001b[0mnew_axis\u001b[0m\u001b[1;33m}\u001b[0m\u001b[1;33m)\u001b[0m\u001b[1;33m\u001b[0m\u001b[1;33m\u001b[0m\u001b[0m\n\u001b[0;32m   3972\u001b[0m \u001b[1;33m\u001b[0m\u001b[0m\n",
      "\u001b[1;32m~\\AppData\\Roaming\\Python\\Python37\\site-packages\\pandas\\core\\indexes\\base.py\u001b[0m in \u001b[0;36mdrop\u001b[1;34m(self, labels, errors)\u001b[0m\n\u001b[0;32m   5016\u001b[0m         \u001b[1;32mif\u001b[0m \u001b[0mmask\u001b[0m\u001b[1;33m.\u001b[0m\u001b[0many\u001b[0m\u001b[1;33m(\u001b[0m\u001b[1;33m)\u001b[0m\u001b[1;33m:\u001b[0m\u001b[1;33m\u001b[0m\u001b[1;33m\u001b[0m\u001b[0m\n\u001b[0;32m   5017\u001b[0m             \u001b[1;32mif\u001b[0m \u001b[0merrors\u001b[0m \u001b[1;33m!=\u001b[0m \u001b[1;34m\"ignore\"\u001b[0m\u001b[1;33m:\u001b[0m\u001b[1;33m\u001b[0m\u001b[1;33m\u001b[0m\u001b[0m\n\u001b[1;32m-> 5018\u001b[1;33m                 \u001b[1;32mraise\u001b[0m \u001b[0mKeyError\u001b[0m\u001b[1;33m(\u001b[0m\u001b[1;34mf\"{labels[mask]} not found in axis\"\u001b[0m\u001b[1;33m)\u001b[0m\u001b[1;33m\u001b[0m\u001b[1;33m\u001b[0m\u001b[0m\n\u001b[0m\u001b[0;32m   5019\u001b[0m             \u001b[0mindexer\u001b[0m \u001b[1;33m=\u001b[0m \u001b[0mindexer\u001b[0m\u001b[1;33m[\u001b[0m\u001b[1;33m~\u001b[0m\u001b[0mmask\u001b[0m\u001b[1;33m]\u001b[0m\u001b[1;33m\u001b[0m\u001b[1;33m\u001b[0m\u001b[0m\n\u001b[0;32m   5020\u001b[0m         \u001b[1;32mreturn\u001b[0m \u001b[0mself\u001b[0m\u001b[1;33m.\u001b[0m\u001b[0mdelete\u001b[0m\u001b[1;33m(\u001b[0m\u001b[0mindexer\u001b[0m\u001b[1;33m)\u001b[0m\u001b[1;33m\u001b[0m\u001b[1;33m\u001b[0m\u001b[0m\n",
      "\u001b[1;31mKeyError\u001b[0m: \"['unsub_dt' 'modified_dt'] not found in axis\""
     ]
    }
   ],
   "source": [
    "'''We only care about subscription statuses where chapter_id is 1.\n",
    "If an email is not present in this table, it is assumed to still be subscribed where chapter_id is 1.'''\n",
    "\"delete chapter_id 0 and do left inner joins on mod_dt from subs\"\n",
    "subs.drop(columns=['unsub_dt','modified_dt'],inplace=True)\n",
    "subs.head()"
   ]
  },
  {
   "cell_type": "code",
   "execution_count": 6,
   "metadata": {
    "tags": []
   },
   "outputs": [
    {
     "output_type": "stream",
     "name": "stdout",
     "text": "<class 'pandas.core.frame.DataFrame'>\nInt64Index: 275484 entries, 0 to 275483\nData columns (total 15 columns):\n #   Column                              Non-Null Count   Dtype \n---  ------                              --------------   ----- \n 0   cons_email_chapter_subscription_id  275484 non-null  int64 \n 1   cons_email_id                       275484 non-null  int64 \n 2   chapter_id                          275484 non-null  int64 \n 3   isunsub                             275484 non-null  int64 \n 4   unsub_dt                            275484 non-null  object\n 5   modified_dt_x                       275484 non-null  object\n 6   cons_id                             275484 non-null  int64 \n 7   cons_email_type_id                  275484 non-null  int64 \n 8   email                               275484 non-null  object\n 9   domain                              275484 non-null  object\n 10  salutation                          138165 non-null  object\n 11  source                              138266 non-null  object\n 12  subsource                           138063 non-null  object\n 13  create_dt                           275484 non-null  object\n 14  modified_dt_y                       275484 non-null  object\ndtypes: int64(6), object(9)\nmemory usage: 33.6+ MB\n<class 'pandas.core.frame.DataFrame'>\nInt64Index: 275484 entries, 0 to 275483\nData columns (total 10 columns):\n #   Column                              Non-Null Count   Dtype \n---  ------                              --------------   ----- \n 0   cons_email_chapter_subscription_id  275484 non-null  int64 \n 1   cons_email_id                       275484 non-null  int64 \n 2   chapter_id                          275484 non-null  int64 \n 3   isunsub                             275484 non-null  int64 \n 4   unsub_dt                            275484 non-null  object\n 5   modified_dt                         275484 non-null  object\n 6   cons_id                             275484 non-null  int64 \n 7   cons_email_type_id                  275484 non-null  int64 \n 8   email                               275484 non-null  object\n 9   domain                              275484 non-null  object\ndtypes: int64(6), object(4)\nmemory usage: 23.1+ MB\n"
    }
   ],
   "source": [
    "subs=subs[subs['chapter_id']==1]\n",
    "subs_email = pd.merge(subs,email,how='left',on=['cons_email_id'])\n",
    "full_df = pd.merge(subs_email,cons,how='left',on=['cons_id'])\n",
    "full_df.info()\n",
    "subs_email.info()"
   ]
  },
  {
   "cell_type": "code",
   "execution_count": 8,
   "metadata": {},
   "outputs": [
    {
     "data": {
      "text/html": [
       "<div>\n",
       "<style scoped>\n",
       "    .dataframe tbody tr th:only-of-type {\n",
       "        vertical-align: middle;\n",
       "    }\n",
       "\n",
       "    .dataframe tbody tr th {\n",
       "        vertical-align: top;\n",
       "    }\n",
       "\n",
       "    .dataframe thead th {\n",
       "        text-align: right;\n",
       "    }\n",
       "</style>\n",
       "<table border=\"1\" class=\"dataframe\">\n",
       "  <thead>\n",
       "    <tr style=\"text-align: right;\">\n",
       "      <th></th>\n",
       "      <th>cons_email_chapter_subscription_id</th>\n",
       "      <th>cons_email_id</th>\n",
       "      <th>chapter_id</th>\n",
       "      <th>isunsub</th>\n",
       "      <th>cons_id</th>\n",
       "      <th>cons_email_type_id</th>\n",
       "      <th>email</th>\n",
       "      <th>domain</th>\n",
       "      <th>salutation</th>\n",
       "      <th>source</th>\n",
       "      <th>subsource</th>\n",
       "      <th>create_dt</th>\n",
       "      <th>modified_dt</th>\n",
       "    </tr>\n",
       "  </thead>\n",
       "  <tbody>\n",
       "    <tr>\n",
       "      <th>0</th>\n",
       "      <td>1</td>\n",
       "      <td>332188</td>\n",
       "      <td>1</td>\n",
       "      <td>1</td>\n",
       "      <td>558514</td>\n",
       "      <td>2582</td>\n",
       "      <td>santiagoeric@hunt.info</td>\n",
       "      <td>gmail.com</td>\n",
       "      <td>OsCVDPtIniFWhYqPDnlk</td>\n",
       "      <td>NaN</td>\n",
       "      <td>CFoxSKPolgsqBnRMvDMk</td>\n",
       "      <td>Sun, 2002-03-17 02:35:08</td>\n",
       "      <td>Sat, 2011-03-26 20:08:01</td>\n",
       "    </tr>\n",
       "    <tr>\n",
       "      <th>1</th>\n",
       "      <td>2</td>\n",
       "      <td>536526</td>\n",
       "      <td>1</td>\n",
       "      <td>1</td>\n",
       "      <td>12447</td>\n",
       "      <td>9716</td>\n",
       "      <td>amandabullock@cunningham-brown.com</td>\n",
       "      <td>gmail.com</td>\n",
       "      <td>NaN</td>\n",
       "      <td>organic</td>\n",
       "      <td>zcqRLbWEZMTlwOaWmbug</td>\n",
       "      <td>Sat, 2012-12-15 00:23:24</td>\n",
       "      <td>Wed, 2010-03-03 12:38:21</td>\n",
       "    </tr>\n",
       "    <tr>\n",
       "      <th>2</th>\n",
       "      <td>3</td>\n",
       "      <td>134711</td>\n",
       "      <td>1</td>\n",
       "      <td>1</td>\n",
       "      <td>49952</td>\n",
       "      <td>1757</td>\n",
       "      <td>michael06@torres-baker.com</td>\n",
       "      <td>gmail.com</td>\n",
       "      <td>NaN</td>\n",
       "      <td>google</td>\n",
       "      <td>uPKiNNVkbftdwIeuvHkl</td>\n",
       "      <td>Thu, 1987-12-17 00:22:11</td>\n",
       "      <td>Mon, 2012-11-26 18:07:20</td>\n",
       "    </tr>\n",
       "    <tr>\n",
       "      <th>3</th>\n",
       "      <td>4</td>\n",
       "      <td>660345</td>\n",
       "      <td>1</td>\n",
       "      <td>1</td>\n",
       "      <td>27409</td>\n",
       "      <td>830</td>\n",
       "      <td>rosalessteven@yahoo.com</td>\n",
       "      <td>gmail.com</td>\n",
       "      <td>vwBsdNnKMfJTmgFpUdBr</td>\n",
       "      <td>twitter</td>\n",
       "      <td>BGLlcgUlxhlKUIeQAkjN</td>\n",
       "      <td>Sun, 1989-07-16 22:14:29</td>\n",
       "      <td>Sun, 1980-08-10 09:19:53</td>\n",
       "    </tr>\n",
       "    <tr>\n",
       "      <th>4</th>\n",
       "      <td>5</td>\n",
       "      <td>184268</td>\n",
       "      <td>1</td>\n",
       "      <td>1</td>\n",
       "      <td>76099</td>\n",
       "      <td>9744</td>\n",
       "      <td>matthewjohnson@vazquez.com</td>\n",
       "      <td>yahoo.com</td>\n",
       "      <td>NaN</td>\n",
       "      <td>facebook</td>\n",
       "      <td>hnRivrBsTZsuYGDchodE</td>\n",
       "      <td>Tue, 1976-07-27 11:26:08</td>\n",
       "      <td>Mon, 2004-05-03 18:40:04</td>\n",
       "    </tr>\n",
       "  </tbody>\n",
       "</table>\n",
       "</div>"
      ],
      "text/plain": [
       "   cons_email_chapter_subscription_id  cons_email_id  chapter_id  isunsub  \\\n",
       "0                                   1         332188           1        1   \n",
       "1                                   2         536526           1        1   \n",
       "2                                   3         134711           1        1   \n",
       "3                                   4         660345           1        1   \n",
       "4                                   5         184268           1        1   \n",
       "\n",
       "   cons_id  cons_email_type_id                               email     domain  \\\n",
       "0   558514                2582              santiagoeric@hunt.info  gmail.com   \n",
       "1    12447                9716  amandabullock@cunningham-brown.com  gmail.com   \n",
       "2    49952                1757          michael06@torres-baker.com  gmail.com   \n",
       "3    27409                 830             rosalessteven@yahoo.com  gmail.com   \n",
       "4    76099                9744          matthewjohnson@vazquez.com  yahoo.com   \n",
       "\n",
       "             salutation    source             subsource  \\\n",
       "0  OsCVDPtIniFWhYqPDnlk       NaN  CFoxSKPolgsqBnRMvDMk   \n",
       "1                   NaN   organic  zcqRLbWEZMTlwOaWmbug   \n",
       "2                   NaN    google  uPKiNNVkbftdwIeuvHkl   \n",
       "3  vwBsdNnKMfJTmgFpUdBr   twitter  BGLlcgUlxhlKUIeQAkjN   \n",
       "4                   NaN  facebook  hnRivrBsTZsuYGDchodE   \n",
       "\n",
       "                  create_dt               modified_dt  \n",
       "0  Sun, 2002-03-17 02:35:08  Sat, 2011-03-26 20:08:01  \n",
       "1  Sat, 2012-12-15 00:23:24  Wed, 2010-03-03 12:38:21  \n",
       "2  Thu, 1987-12-17 00:22:11  Mon, 2012-11-26 18:07:20  \n",
       "3  Sun, 1989-07-16 22:14:29  Sun, 1980-08-10 09:19:53  \n",
       "4  Tue, 1976-07-27 11:26:08  Mon, 2004-05-03 18:40:04  "
      ]
     },
     "execution_count": 8,
     "metadata": {},
     "output_type": "execute_result"
    }
   ],
   "source": [
    "full_df.head()"
   ]
  },
  {
   "cell_type": "code",
   "execution_count": null,
   "metadata": {},
   "outputs": [],
   "source": [
    "full_df[['email','source','isunsub','create_dt','modified_dt']].to_csv('full_df')"
   ]
  },
  {
   "cell_type": "code",
   "execution_count": null,
   "metadata": {},
   "outputs": [],
   "source": [
    ",'chapter_id','unsub_dt','cons_email_id','cons_email_type_id','is_primary','canonical_local_part','domain','double_validation',\n",
    "                      'create_app_x','create_user_x','modified_app_x','modified_user_x','status_x','note_x','prefix','firstname','middlename','lastname','suffix','salutation','gender',\n",
    "                      'birth_dt','title','employer','occupation','income','subsource','userid','password','is_validated','is_banned','change_password_next_login','consent_type_id',\n",
    "                      'create_app_y','create_user_y','modified_app_y','modified_user_y','status_y','note_y'"
   ]
  }
 ],
 "metadata": {
  "kernelspec": {
   "display_name": "Python 3",
   "language": "python",
   "name": "python3"
  },
  "language_info": {
   "codemirror_mode": {
    "name": "ipython",
    "version": 3
   },
   "file_extension": ".py",
   "mimetype": "text/x-python",
   "name": "python",
   "nbconvert_exporter": "python",
   "pygments_lexer": "ipython3",
   "version": "3.7.6-final"
  }
 },
 "nbformat": 4,
 "nbformat_minor": 2
}