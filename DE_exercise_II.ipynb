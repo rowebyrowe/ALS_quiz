{
 "metadata": {
  "language_info": {
   "codemirror_mode": {
    "name": "ipython",
    "version": 3
   },
   "file_extension": ".py",
   "mimetype": "text/x-python",
   "name": "python",
   "nbconvert_exporter": "python",
   "pygments_lexer": "ipython3",
   "version": "3.7.6-final"
  },
  "orig_nbformat": 2,
  "kernelspec": {
   "name": "python_defaultSpec_1597353809501",
   "display_name": "Python 3.7.6 64-bit ('base': conda)"
  }
 },
 "nbformat": 4,
 "nbformat_minor": 2,
 "cells": [
  {
   "cell_type": "code",
   "execution_count": 1,
   "metadata": {},
   "outputs": [],
   "source": [
    "import pandas as pd\n",
    "import numpy as np"
   ]
  },
  {
   "cell_type": "code",
   "execution_count": 2,
   "metadata": {},
   "outputs": [],
   "source": [
    "full_df = pd.read_csv('full_df.csv')"
   ]
  },
  {
   "cell_type": "code",
   "execution_count": 3,
   "metadata": {},
   "outputs": [
    {
     "output_type": "execute_result",
     "data": {
      "text/plain": "Index(['Unnamed: 0', 'email', 'source', 'isunsub', 'create_dt', 'modified_dt'], dtype='object')"
     },
     "metadata": {},
     "execution_count": 3
    }
   ],
   "source": [
    "full_df.columns"
   ]
  },
  {
   "cell_type": "code",
   "execution_count": 4,
   "metadata": {},
   "outputs": [],
   "source": [
    "full_df.rename(columns={'source':'code','isunsub':'is_unsub','create_dt':'created_dt','modified_dt':'updated_dt'},inplace=True)"
   ]
  },
  {
   "cell_type": "code",
   "execution_count": 5,
   "metadata": {},
   "outputs": [],
   "source": [
    "full_df.drop(columns = 'Unnamed: 0',inplace=True)"
   ]
  },
  {
   "cell_type": "code",
   "execution_count": 6,
   "metadata": {},
   "outputs": [],
   "source": [
    "full_df['created_dt'] = pd.to_datetime(full_df['created_dt'],infer_datetime_format=True)\n",
    "full_df['updated_dt'] = pd.to_datetime(full_df['updated_dt'],infer_datetime_format=True)\n"
   ]
  },
  {
   "cell_type": "code",
   "execution_count": null,
   "metadata": {},
   "outputs": [],
   "source": [
    "full_df.to_csv('people.csv')"
   ]
  },
  {
   "cell_type": "code",
   "execution_count": 7,
   "metadata": {},
   "outputs": [
    {
     "output_type": "execute_result",
     "data": {
      "text/plain": "                                email      code  is_unsub  created_dt  \\\n0              santiagoeric@hunt.info       NaN         1  2002-03-17   \n1  amandabullock@cunningham-brown.com   organic         1  2012-12-15   \n2          michael06@torres-baker.com    google         1  1987-12-17   \n3             rosalessteven@yahoo.com   twitter         1  1989-07-16   \n4          matthewjohnson@vazquez.com  facebook         1  1976-07-27   \n\n           updated_dt  \n0 2011-03-26 20:08:01  \n1 2010-03-03 12:38:21  \n2 2012-11-26 18:07:20  \n3 1980-08-10 09:19:53  \n4 2004-05-03 18:40:04  ",
      "text/html": "<div>\n<style scoped>\n    .dataframe tbody tr th:only-of-type {\n        vertical-align: middle;\n    }\n\n    .dataframe tbody tr th {\n        vertical-align: top;\n    }\n\n    .dataframe thead th {\n        text-align: right;\n    }\n</style>\n<table border=\"1\" class=\"dataframe\">\n  <thead>\n    <tr style=\"text-align: right;\">\n      <th></th>\n      <th>email</th>\n      <th>code</th>\n      <th>is_unsub</th>\n      <th>created_dt</th>\n      <th>updated_dt</th>\n    </tr>\n  </thead>\n  <tbody>\n    <tr>\n      <th>0</th>\n      <td>santiagoeric@hunt.info</td>\n      <td>NaN</td>\n      <td>1</td>\n      <td>2002-03-17</td>\n      <td>2011-03-26 20:08:01</td>\n    </tr>\n    <tr>\n      <th>1</th>\n      <td>amandabullock@cunningham-brown.com</td>\n      <td>organic</td>\n      <td>1</td>\n      <td>2012-12-15</td>\n      <td>2010-03-03 12:38:21</td>\n    </tr>\n    <tr>\n      <th>2</th>\n      <td>michael06@torres-baker.com</td>\n      <td>google</td>\n      <td>1</td>\n      <td>1987-12-17</td>\n      <td>2012-11-26 18:07:20</td>\n    </tr>\n    <tr>\n      <th>3</th>\n      <td>rosalessteven@yahoo.com</td>\n      <td>twitter</td>\n      <td>1</td>\n      <td>1989-07-16</td>\n      <td>1980-08-10 09:19:53</td>\n    </tr>\n    <tr>\n      <th>4</th>\n      <td>matthewjohnson@vazquez.com</td>\n      <td>facebook</td>\n      <td>1</td>\n      <td>1976-07-27</td>\n      <td>2004-05-03 18:40:04</td>\n    </tr>\n  </tbody>\n</table>\n</div>"
     },
     "metadata": {},
     "execution_count": 7
    }
   ],
   "source": [
    "full_df['created_dt'] = pd.to_datetime(full_df.created_dt).dt.date\n",
    "full_df.head()"
   ]
  },
  {
   "cell_type": "code",
   "execution_count": 14,
   "metadata": {
    "tags": []
   },
   "outputs": [
    {
     "output_type": "stream",
     "name": "stdout",
     "text": "<class 'pandas.core.frame.DataFrame'>\nRangeIndex: 275484 entries, 0 to 275483\nData columns (total 5 columns):\n #   Column      Non-Null Count   Dtype         \n---  ------      --------------   -----         \n 0   email       275484 non-null  object        \n 1   code        138266 non-null  object        \n 2   is_unsub    275484 non-null  int64         \n 3   created_dt  275484 non-null  object        \n 4   updated_dt  275484 non-null  datetime64[ns]\ndtypes: datetime64[ns](1), int64(1), object(3)\nmemory usage: 10.5+ MB\n"
    }
   ],
   "source": [
    "full_df.info()"
   ]
  },
  {
   "cell_type": "code",
   "execution_count": 12,
   "metadata": {},
   "outputs": [],
   "source": [
    "df_daily=full_df.groupby('created_dt').count()"
   ]
  },
  {
   "cell_type": "code",
   "execution_count": 13,
   "metadata": {},
   "outputs": [
    {
     "output_type": "execute_result",
     "data": {
      "text/plain": "       created_dt  email  code  is_unsub  updated_dt\n0      1970-01-01     13     6        13          13\n1      1970-01-02     14     6        14          14\n2      1970-01-03     11     8        11          11\n3      1970-01-04     18     6        18          18\n4      1970-01-05     17    10        17          17\n...           ...    ...   ...       ...         ...\n18440  2020-06-27     12     6        12          12\n18441  2020-06-28     18     9        18          18\n18442  2020-06-29     18    11        18          18\n18443  2020-06-30     13     5        13          13\n18444  2020-07-01     13     8        13          13\n\n[18445 rows x 5 columns]",
      "text/html": "<div>\n<style scoped>\n    .dataframe tbody tr th:only-of-type {\n        vertical-align: middle;\n    }\n\n    .dataframe tbody tr th {\n        vertical-align: top;\n    }\n\n    .dataframe thead th {\n        text-align: right;\n    }\n</style>\n<table border=\"1\" class=\"dataframe\">\n  <thead>\n    <tr style=\"text-align: right;\">\n      <th></th>\n      <th>created_dt</th>\n      <th>email</th>\n      <th>code</th>\n      <th>is_unsub</th>\n      <th>updated_dt</th>\n    </tr>\n  </thead>\n  <tbody>\n    <tr>\n      <th>0</th>\n      <td>1970-01-01</td>\n      <td>13</td>\n      <td>6</td>\n      <td>13</td>\n      <td>13</td>\n    </tr>\n    <tr>\n      <th>1</th>\n      <td>1970-01-02</td>\n      <td>14</td>\n      <td>6</td>\n      <td>14</td>\n      <td>14</td>\n    </tr>\n    <tr>\n      <th>2</th>\n      <td>1970-01-03</td>\n      <td>11</td>\n      <td>8</td>\n      <td>11</td>\n      <td>11</td>\n    </tr>\n    <tr>\n      <th>3</th>\n      <td>1970-01-04</td>\n      <td>18</td>\n      <td>6</td>\n      <td>18</td>\n      <td>18</td>\n    </tr>\n    <tr>\n      <th>4</th>\n      <td>1970-01-05</td>\n      <td>17</td>\n      <td>10</td>\n      <td>17</td>\n      <td>17</td>\n    </tr>\n    <tr>\n      <th>...</th>\n      <td>...</td>\n      <td>...</td>\n      <td>...</td>\n      <td>...</td>\n      <td>...</td>\n    </tr>\n    <tr>\n      <th>18440</th>\n      <td>2020-06-27</td>\n      <td>12</td>\n      <td>6</td>\n      <td>12</td>\n      <td>12</td>\n    </tr>\n    <tr>\n      <th>18441</th>\n      <td>2020-06-28</td>\n      <td>18</td>\n      <td>9</td>\n      <td>18</td>\n      <td>18</td>\n    </tr>\n    <tr>\n      <th>18442</th>\n      <td>2020-06-29</td>\n      <td>18</td>\n      <td>11</td>\n      <td>18</td>\n      <td>18</td>\n    </tr>\n    <tr>\n      <th>18443</th>\n      <td>2020-06-30</td>\n      <td>13</td>\n      <td>5</td>\n      <td>13</td>\n      <td>13</td>\n    </tr>\n    <tr>\n      <th>18444</th>\n      <td>2020-07-01</td>\n      <td>13</td>\n      <td>8</td>\n      <td>13</td>\n      <td>13</td>\n    </tr>\n  </tbody>\n</table>\n<p>18445 rows × 5 columns</p>\n</div>"
     },
     "metadata": {},
     "execution_count": 13
    }
   ],
   "source": [
    "df_daily.reset_index()"
   ]
  },
  {
   "cell_type": "code",
   "execution_count": 15,
   "metadata": {},
   "outputs": [],
   "source": [
    "df_daily = df_daily.drop(columns = ['code','is_unsub','updated_dt'])\n",
    "df_daily.rename(columns ={'created_dt':'acquistion_date','email':'acquisitions'},inplace=True)\n",
    "df_daily.to_csv('acquisition_facts.csv')"
   ]
  },
  {
   "cell_type": "code",
   "execution_count": null,
   "metadata": {},
   "outputs": [],
   "source": []
  }
 ]
}